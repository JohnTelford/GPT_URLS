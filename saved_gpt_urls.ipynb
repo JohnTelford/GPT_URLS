{
 "cells": [
  {
   "attachments": {},
   "cell_type": "markdown",
   "metadata": {},
   "source": [
    "## Notes\n",
    "\n",
    "### Copy Safari History\n",
    "\n",
    "- open safari history\n",
    "- select show all history\n",
    "- History does not support copy \n",
    "- Capture text using [TextSniper](https://apps.apple.com/us/app/textsniper-pdf-image-ocr/id1528890965)\n"
   ]
  },
  {
   "cell_type": "code",
   "execution_count": 4,
   "metadata": {},
   "outputs": [
    {
     "ename": "SyntaxError",
     "evalue": "invalid decimal literal (3856809118.py, line 7)",
     "output_type": "error",
     "traceback": [
      "\u001b[0;36m  Cell \u001b[0;32mIn[4], line 7\u001b[0;36m\u001b[0m\n\u001b[0;31m    [gpt parameters - Search results - Wikipedia](https://en.wikipedia.org/w/index.php?search=gpt+parameters&title=Special%3ASearch&ns0=1)\u001b[0m\n\u001b[0m                                                                                                                           ^\u001b[0m\n\u001b[0;31mSyntaxError\u001b[0m\u001b[0;31m:\u001b[0m invalid decimal literal\n"
     ]
    }
   ],
   "source": [
    "### Some Links\n",
    "\n",
    "[GPT-4 has a trillion parameters - Report](https://the-decoder.com/gpt-4-has-a-trillion-parameters/)\n",
    "[Probability distribution - Wikipedia](https://en.wikipedia.org/wiki/Probability_distribution)\n",
    "[Generative pre-trained transformer - Wikipedia](https://en.wikipedia.org/wiki/Generative_pre-trained_transformer)\n",
    "[Parameter - Wikipedia](https://en.wikipedia.org/wiki/Parameter?wprov=srpw1_5)\n",
    "[gpt parameters - Search results - Wikipedia](https://en.wikipedia.org/w/index.php?search=gpt+parameters&title=Special%3ASearch&ns0=1)\n",
    "(no title)](https://en.wikipedia.org/w/index.php?search=gpt+parameters&title=Special%3ASearch&wprov=acrw1_-1)\n",
    "[GPT-1 to GPT-4: Each of OpenAl's GPT Models Explained and Compared](https://www.makeuseof.com/gpt-models-explained-and-compared/)\n",
    "[chatGPT Wikipedia](https://en.wikipedia.org/wiki/ChatGPT#)\n",
    "[chatGPT - Wikipedia](https://en.wikipedia.org/wiki/ChatGPT)\n",
    "[microsoft spent hundreds of millions of...n a ChatGPT supercomputer The Verge](https://www.theverge.com/2023/3/13/23637675/mic…..chatgpt-bing-millions-dollars-supercomputer-openai)\n",
    "Nvidia reveals H100 GPU Al for Al and teas...' fastest Al supercomputer' - The Verge](https://www.theverge.com/2022/3/22/22989182/nvid...-hopper-architecture-h100-gpu-eos-supercomputer)\n",
    "ChatGPT - Wikipedia](https://en.wikipedia.org/wiki/ChatGPT#cite_note-12)\n",
    "GPT Wikipedia](https://en.wikipedia.org/wiki/GPT)\n",
    "Wikipedia](https://www.wikipedia.org/)\n",
    "File: The-Transformer-model-architecture.png-Wikipedia](https://en.wikipedia.org/wiki/File:The-Transformer-model-architecture.png)\n",
    "[Pocket - Transformer (machine learning model)](https://getpocket.com/read/2746634512)\n",
    "[Packet](https://getpocket.com/saves/search?query=gpt-4)\n",
    "[Packet](https://getpocket.com/saves/search?query=gpt%204)\n",
    "[Packet](https://getpocket.com/saves/search?query=transformer)\n",
    "[Packet - How ChatGPT and Other LLMs Work-and Where They Could Go Next](https://getpocket.com/read/3856515404)\n",
    "[Packet - OpenAl's CEO Says the Age of Giant Al Models Is Already Over](https://getpocket.com/read/3848205153)\n",
    "[Packet](https://getpocket.com/saves/search?query=chat)\n",
    "[Packet - ChatGPT 101: What Is Generative Al (and How to Use It)](https://getpocket.com/read/3798518608)\n",
    "[Packet - 3 Reasons to How ChatGPT Became the Fastest Growing App of All Time](https://getpocket.com/read/3802586609)\n",
    "[Packet - The future of generative Al is niche, not generalized](https://getpocket.com/read/3854821612)\n",
    "[Packet - Want More Out of Generative Al? Here Are 9 Useful Resources](https://getpocket.com/read/385074.3711)\n",
    "[Packet - What's AGI, and Why Are Al Experts Skeptical?](https://getpocket.com/read/3857348554)\n",
    "[Packet](https://getpocket.com/saves?src=navbar)\n",
    "[Collections for Your Pocket](https://getpocket.com/collections?src=navbar)\n",
    "[Packet](https://getpocket.com/home)"
   ]
  },
  {
   "attachments": {},
   "cell_type": "markdown",
   "metadata": {},
   "source": [
    "---\n",
    "\n",
    "## GPT\n",
    "\n",
    "### Overview\n"
   ]
  },
  {
   "attachments": {},
   "cell_type": "markdown",
   "metadata": {},
   "source": [
    "---\n",
    "\n",
    "## ChatGPT\n",
    "\n",
    "#### Vesions"
   ]
  }
 ],
 "metadata": {
  "kernelspec": {
   "display_name": "Python 3",
   "language": "python",
   "name": "python3"
  },
  "language_info": {
   "codemirror_mode": {
    "name": "ipython",
    "version": 3
   },
   "file_extension": ".py",
   "mimetype": "text/x-python",
   "name": "python",
   "nbconvert_exporter": "python",
   "pygments_lexer": "ipython3",
   "version": "3.11.2"
  },
  "orig_nbformat": 4
 },
 "nbformat": 4,
 "nbformat_minor": 2
}
