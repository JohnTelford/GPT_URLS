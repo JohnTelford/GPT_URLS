{
 "cells": [
  {
   "cell_type": "code",
   "execution_count": null,
   "metadata": {},
   "outputs": [],
   "source": [
    "[GPT-4 has a trillion parameters - Report](https://the-decoder.com/gpt-4-has-a-trillion-parameters/)\n",
    "Probability distribution - Wikipedia](https://en.wikipedia.org/wiki/Probability_distribution)\n",
    "Generative pre-trained transformer - Wikipedia](https://en.wikipedia.org/wiki/Generative_pre-trained_transformer)\n",
    "[Parameter - Wikipedia](https://en.wikipedia.org/wiki/Parameter)\n",
    "[Parameter - Wikipedia](https://en.wikipedia.org/wiki/Parameter?wprov=srpw1_5)\n",
    "[gpt parameters Search results - Wikipedia](https://en.wikipedia.org/w/index.php?search=gpt+pa…&ns0=1&searchToken=4pniom7do4jd143fu3wpgawya)\n",
    "gpt parameters - Search results - Wikipedia](https://en.wikipedia.org/w/index.php?search=gpt+parameters&title=Special%3ASearch&ns0=1)\n",
    "(no title)](https://en.wikipedia.org/w/index.php?search=gpt+parameters&title=Special%3ASearch&wprov=acrw1_-1)\n",
    "GPT-1 to GPT-4: Each of OpenAI's GPT Models Explained and Compared](https://www.makeuseof.com/is-chatgpt-safe-cybersecurity-risks-openai-chatbot/)\n",
    "[GPT-1 to GPT-4: Each of OpenAl's GPT Models Explained and Compared](https://www.makeuseof.com/gpt-models-explained-and-compared/)\n",
    "ChatGPT Wikipedia](https://en.wikipedia.org/wiki/ChatGPT#)\n",
    "ChatGPT - Wikipedia](https://en.wikipedia.org/wiki/ChatGPT)\n",
    "Microsoft spent hundreds of millions of...n a ChatGPT supercomputer The Verge](https://www.theverge.com/2023/3/13/23637675/mic…..chatgpt-bing-millions-dollars-supercomputer-openai)\n",
    "Nvidia reveals H100 GPU Al for Al and teas...' fastest Al supercomputer' - The Verge](https://www.theverge.com/2022/3/22/22989182/nvid...-hopper-architecture-h100-gpu-eos-supercomputer)\n",
    "ChatGPT - Wikipedia](https://en.wikipedia.org/wiki/ChatGPT#cite_note-12)\n",
    "GPT Wikipedia](https://en.wikipedia.org/wiki/GPT)\n",
    "Wikipedia](https://www.wikipedia.org/)\n",
    "File: The-Transformer-model-architecture.png-Wikipedia](https://en.wikipedia.org/wiki/File:The-Transformer-model-architecture.png)\n",
    "Pocket - Transformer (machine learning model)](https://getpocket.com/read/2746634512)\n",
    "Pocket](https://getpocket.com/saves/search?query=gpt-4)\n",
    "Pocket](https://getpocket.com/saves/search?query=gpt%204)\n",
    "Pocket](https://getpocket.com/saves/search?query=transformer)\n",
    "Pocket - How ChatGPT and Other LLMs Work-and Where They Could Go Next](https://getpocket.com/read/3856515404)\n",
    "Pocket - OpenAl's CEO Says the Age of Giant Al Models Is Already Over](https://getpocket.com/read/3848205153)\n",
    "Pocket](https://getpocket.com/saves/search?query=chat)\n",
    "Pocket - ChatGPT 101: What Is Generative Al (and How to Use It)](https://getpocket.com/read/3798518608)\n",
    "Pocket - 3 Reasons to How ChatGPT Became the Fastest Growing App of All Time](https://getpocket.com/read/3802586609)\n",
    "Pocket - The future of generative Al is niche, not generalized](https://getpocket.com/read/3854821612)\n",
    "Pocket - Want More Out of Generative Al? Here Are 9 Useful Resources](https://getpocket.com/read/385074.3711)\n",
    "Pocket - What's AGI, and Why Are Al Experts Skeptical?](https://getpocket.com/read/3857348554)\n",
    "Pocket](https://getpocket.com/saves?src=navbar)\n",
    "Collections for Your Pocket](https://getpocket.com/collections?src=navbar)\n",
    "Pocket](https://getpocket.com/home)"
   ]
  }
 ],
 "metadata": {
  "kernelspec": {
   "display_name": "Python 3",
   "language": "python",
   "name": "python3"
  },
  "language_info": {
   "name": "python",
   "version": "3.11.2"
  },
  "orig_nbformat": 4
 },
 "nbformat": 4,
 "nbformat_minor": 2
}
